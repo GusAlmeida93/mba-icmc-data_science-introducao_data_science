{
 "cells": [
  {
   "cell_type": "code",
   "execution_count": 8,
   "metadata": {},
   "outputs": [
    {
     "name": "stdout",
     "output_type": "stream",
     "text": [
      "Número de linhas e colunas na matriz de atributos: (310, 7)\n"
     ]
    }
   ],
   "source": [
    "import pandas as pd\n",
    "import numpy as np\n",
    "import matplotlib.pyplot as plt\n",
    "np.random.seed(10)\n",
    "\n",
    "data = pd.read_csv('../data/vertebralcolumn-2C.csv', header=(0))\n",
    "\n",
    "# remove NaN\n",
    "data = data.dropna(axis='rows') #\n",
    "# armazena o nome das classes\n",
    "classes = np.array(pd.unique(data[data.columns[-1]]), dtype=str)  #name of the clases\n",
    "features_names = data.columns\n",
    "\n",
    "print(\"Número de linhas e colunas na matriz de atributos:\", data.shape)\n",
    "attributes = list(data.columns[0:-2])\n",
    "# mostra os dados\n",
    "data.head(10)\n",
    "\n",
    "data = data.to_numpy()\n",
    "nrow,ncol = data.shape\n",
    "y = data[:,-1]\n",
    "X = data[:,0:ncol-1]\n",
    "\n",
    "from sklearn.model_selection import train_test_split\n",
    "p = 0.2 # fracao de elementos no conjunto de teste\n",
    "x_train, x_test, y_train, y_test = train_test_split(X, y, test_size = p, random_state = 2)"
   ]
  },
  {
   "cell_type": "code",
   "execution_count": 9,
   "metadata": {},
   "outputs": [],
   "source": [
    "from sklearn.ensemble import RandomForestClassifier\n",
    "from sklearn.datasets import make_classification"
   ]
  },
  {
   "cell_type": "code",
   "execution_count": 21,
   "metadata": {},
   "outputs": [
    {
     "data": {
      "text/plain": [
       "DecisionTreeClassifier(random_state=101)"
      ]
     },
     "execution_count": 21,
     "metadata": {},
     "output_type": "execute_result"
    }
   ],
   "source": [
    "from sklearn import tree\n",
    "from sklearn.metrics import accuracy_score\n",
    "\n",
    "clf = RandomForestClassifier(n_estimators = 50,  random_state = 42)\n",
    "\n",
    "clf = tree.DecisionTreeClassifier(criterion = 'gini', random_state = 101)\n",
    "\n",
    "clf.fit(x_train, y_train)"
   ]
  },
  {
   "cell_type": "code",
   "execution_count": 22,
   "metadata": {},
   "outputs": [],
   "source": [
    "pred_y = clf.predict(x_test)"
   ]
  },
  {
   "cell_type": "code",
   "execution_count": 23,
   "metadata": {},
   "outputs": [],
   "source": [
    "from sklearn.metrics import precision_score, recall_score, classification_report, accuracy_score, f1_score\n"
   ]
  },
  {
   "cell_type": "code",
   "execution_count": 24,
   "metadata": {},
   "outputs": [
    {
     "name": "stdout",
     "output_type": "stream",
     "text": [
      "Accuracy: 0.7741935483870968\n",
      "F1 score: 0.7163398692810458\n",
      "Precision: 0.7255434782608696\n",
      "Recall: 0.7095959595959596\n",
      "\n",
      " clasification report:\n",
      "               precision    recall  f1-score   support\n",
      "\n",
      "    Abnormal       0.83      0.86      0.84        44\n",
      "      Normal       0.62      0.56      0.59        18\n",
      "\n",
      "    accuracy                           0.77        62\n",
      "   macro avg       0.73      0.71      0.72        62\n",
      "weighted avg       0.77      0.77      0.77        62\n",
      "\n"
     ]
    }
   ],
   "source": [
    "print('Accuracy:', accuracy_score(pred_y, y_test))\n",
    "print('F1 score:', f1_score(y_test, pred_y, average=\"macro\"))\n",
    "print('Precision:', precision_score(y_test, pred_y, average=\"macro\"))\n",
    "print('Recall:', recall_score(y_test, pred_y, average=\"macro\"))\n",
    "print('\\n clasification report:\\n', classification_report(y_test, pred_y))"
   ]
  },
  {
   "cell_type": "code",
   "execution_count": null,
   "metadata": {},
   "outputs": [],
   "source": []
  }
 ],
 "metadata": {
  "interpreter": {
   "hash": "f0e4382011ba78a3056bac502f8c1279ce53b60df32c819d5ad1b2f5142ed3d5"
  },
  "kernelspec": {
   "display_name": "Python 3.8.10 ('mba-icmc-data_science-introducao_data_scie-Xc884u1h')",
   "language": "python",
   "name": "python3"
  },
  "language_info": {
   "codemirror_mode": {
    "name": "ipython",
    "version": 3
   },
   "file_extension": ".py",
   "mimetype": "text/x-python",
   "name": "python",
   "nbconvert_exporter": "python",
   "pygments_lexer": "ipython3",
   "version": "3.8.10"
  },
  "orig_nbformat": 4
 },
 "nbformat": 4,
 "nbformat_minor": 2
}
