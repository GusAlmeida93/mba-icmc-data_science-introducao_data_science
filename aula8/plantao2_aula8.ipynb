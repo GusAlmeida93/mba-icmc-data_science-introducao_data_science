{
  "nbformat": 4,
  "nbformat_minor": 0,
  "metadata": {
    "colab": {
      "name": "Tutoria8.ipynb",
      "provenance": [],
      "collapsed_sections": []
    },
    "kernelspec": {
      "name": "python3",
      "display_name": "Python 3"
    },
    "language_info": {
      "name": "python"
    }
  },
  "cells": [
    {
      "cell_type": "code",
      "execution_count": 13,
      "metadata": {
        "colab": {
          "base_uri": "https://localhost:8080/",
          "height": 612
        },
        "id": "qVIR-W5DJg7w",
        "outputId": "363131dc-e30e-4df5-dac1-94ab04cf1cd5"
      },
      "outputs": [
        {
          "output_type": "stream",
          "name": "stdout",
          "text": [
            "(303, 14)\n",
            "Visão geral dos dados:\n",
            "   age  sex  cp  trestbps  chol  fbs  restecg  thalach  exang  oldpeak  slope  \\\n",
            "0   63    1   1       145   233    1        2      150      0      2.3      3   \n",
            "1   67    1   4       160   286    0        2      108      1      1.5      2   \n",
            "2   67    1   4       120   229    0        2      129      1      2.6      2   \n",
            "3   37    1   3       130   250    0        0      187      0      3.5      3   \n",
            "4   41    0   2       130   204    0        2      172      0      1.4      1   \n",
            "\n",
            "   ca        thal  target  \n",
            "0   0       fixed       0  \n",
            "1   3      normal       1  \n",
            "2   2  reversible       0  \n",
            "3   0      normal       0  \n",
            "4   0      normal       0  \n",
            "\n",
            "Valores categóricos contidos no atributo thal:\n",
            "['fixed' 'normal' 'reversible' '1' '2']\n",
            "\n",
            "Visualização dos valores no atributo thal:\n"
          ]
        },
        {
          "output_type": "display_data",
          "data": {
            "text/plain": [
              "<Figure size 432x288 with 1 Axes>"
            ],
            "image/png": "[encoded data removed]"
          },
          "metadata": {
            "needs_background": "light"
          }
        }
      ],
      "source": [
        "import pandas as pd\n",
        "import matplotlib.pyplot as plt\n",
        "\n",
        "# vamos estudar o Cleveland Clinic Foundation for Heart Disease dataset\n",
        "data = pd.read_csv(\"http://storage.googleapis.com/download.tensorflow.org/data/heart.csv\")\n",
        "print(data.shape)\n",
        "\n",
        "print(\"Visão geral dos dados:\")\n",
        "print(data.head())\n",
        "\n",
        "print(\"\\nValores categóricos contidos no atributo thal:\")\n",
        "print(data['thal'].unique())\n",
        "\n",
        "print(\"\\nVisualização dos valores no atributo thal:\")\n",
        "data['thal'].hist()\n",
        "plt.show()"
      ]
    },
    {
      "cell_type": "code",
      "source": [
        "# aparentemente instâncias com valores '1' e '2' são discrepantes\n",
        "data = data[(data['thal']!='1')&(data['thal']!='2')]\n",
        "print(data.shape)\n",
        "\n",
        "print(\"\\nValores categóricos contidos no atributo thal:\")\n",
        "print(data['thal'].unique())\n",
        "\n",
        "print(\"\\nVisualização dos valores no atributo thal:\")\n",
        "data['thal'].hist()\n",
        "plt.show()"
      ],
      "metadata": {
        "colab": {
          "base_uri": "https://localhost:8080/",
          "height": 369
        },
        "id": "PyobXP4EJ1nU",
        "outputId": "942e383c-ae45-4fad-f45f-d53e61aee4d1"
      },
      "execution_count": 14,
      "outputs": [
        {
          "output_type": "stream",
          "name": "stdout",
          "text": [
            "(301, 14)\n",
            "\n",
            "Valores categóricos contidos no atributo thal:\n",
            "['fixed' 'normal' 'reversible']\n",
            "\n",
            "Visualização dos valores no atributo thal:\n"
          ]
        },
        {
          "output_type": "display_data",
          "data": {
            "text/plain": [
              "<Figure size 432x288 with 1 Axes>"
            ],
            "image/png": "[encoded data removed]"
          },
          "metadata": {
            "needs_background": "light"
          }
        }
      ]
    },
    {
      "cell_type": "code",
      "source": [
        "# o método get_dummies faz esta configuração para nós:\n",
        "dummy_vars = pd.get_dummies(data['thal'])\n",
        "newData = pd.concat([data['thal'], dummy_vars], axis=1, sort=False)\n",
        "print(newData)"
      ],
      "metadata": {
        "colab": {
          "base_uri": "https://localhost:8080/"
        },
        "id": "ZogI7_m9MY2s",
        "outputId": "4ccdf3f6-9746-4620-a2ea-a85762aaad13"
      },
      "execution_count": 15,
      "outputs": [
        {
          "output_type": "stream",
          "name": "stdout",
          "text": [
            "           thal  fixed  normal  reversible\n",
            "0         fixed      1       0           0\n",
            "1        normal      0       1           0\n",
            "2    reversible      0       0           1\n",
            "3        normal      0       1           0\n",
            "4        normal      0       1           0\n",
            "..          ...    ...     ...         ...\n",
            "298       fixed      1       0           0\n",
            "299  reversible      0       0           1\n",
            "300  reversible      0       0           1\n",
            "301  reversible      0       0           1\n",
            "302  reversible      0       0           1\n",
            "\n",
            "[301 rows x 4 columns]\n"
          ]
        }
      ]
    },
    {
      "cell_type": "code",
      "source": [
        "del data['thal']\n",
        "data = pd.merge(data, newData, left_index=True, right_index=True)\n",
        "del data['thal']\n",
        "print(data.head())"
      ],
      "metadata": {
        "colab": {
          "base_uri": "https://localhost:8080/"
        },
        "id": "jUf48__5MbLL",
        "outputId": "ab914d24-ddfd-4d82-b7c8-6d4ad0014e68"
      },
      "execution_count": 16,
      "outputs": [
        {
          "output_type": "stream",
          "name": "stdout",
          "text": [
            "   age  sex  cp  trestbps  chol  fbs  restecg  thalach  exang  oldpeak  slope  \\\n",
            "0   63    1   1       145   233    1        2      150      0      2.3      3   \n",
            "1   67    1   4       160   286    0        2      108      1      1.5      2   \n",
            "2   67    1   4       120   229    0        2      129      1      2.6      2   \n",
            "3   37    1   3       130   250    0        0      187      0      3.5      3   \n",
            "4   41    0   2       130   204    0        2      172      0      1.4      1   \n",
            "\n",
            "   ca  target  fixed  normal  reversible  \n",
            "0   0       0      1       0           0  \n",
            "1   3       1      0       1           0  \n",
            "2   2       0      0       0           1  \n",
            "3   0       0      0       1           0  \n",
            "4   0       0      0       1           0  \n"
          ]
        }
      ]
    },
    {
      "cell_type": "code",
      "source": [
        "data['target'].hist()\n",
        "plt.show()"
      ],
      "metadata": {
        "colab": {
          "base_uri": "https://localhost:8080/",
          "height": 265
        },
        "id": "GbRMmbACKNNo",
        "outputId": "994c014e-f9ed-4646-a060-e9ba4e623bb3"
      },
      "execution_count": 17,
      "outputs": [
        {
          "output_type": "display_data",
          "data": {
            "text/plain": [
              "<Figure size 432x288 with 1 Axes>"
            ],
            "image/png": "[encoded data removed]"
          },
          "metadata": {
            "needs_background": "light"
          }
        }
      ]
    },
    {
      "cell_type": "code",
      "source": [
        "print(data.shape)\n",
        "Y = data['target']\n",
        "del data['target']\n",
        "X = data\n",
        "\n",
        "print(X.shape)\n",
        "print(Y.shape)"
      ],
      "metadata": {
        "colab": {
          "base_uri": "https://localhost:8080/"
        },
        "id": "fzD8RKu6Kytn",
        "outputId": "5ccefa62-4c37-40cf-aa86-2af5eaef17e6"
      },
      "execution_count": 18,
      "outputs": [
        {
          "output_type": "stream",
          "name": "stdout",
          "text": [
            "(301, 16)\n",
            "(301, 15)\n",
            "(301,)\n"
          ]
        }
      ]
    },
    {
      "cell_type": "code",
      "source": [
        "print(X.head())\n",
        "print(Y.head())"
      ],
      "metadata": {
        "colab": {
          "base_uri": "https://localhost:8080/"
        },
        "id": "ZAKif36VL_IL",
        "outputId": "435abd51-741d-4aed-8702-028d3ddcca96"
      },
      "execution_count": 19,
      "outputs": [
        {
          "output_type": "stream",
          "name": "stdout",
          "text": [
            "   age  sex  cp  trestbps  chol  fbs  restecg  thalach  exang  oldpeak  slope  \\\n",
            "0   63    1   1       145   233    1        2      150      0      2.3      3   \n",
            "1   67    1   4       160   286    0        2      108      1      1.5      2   \n",
            "2   67    1   4       120   229    0        2      129      1      2.6      2   \n",
            "3   37    1   3       130   250    0        0      187      0      3.5      3   \n",
            "4   41    0   2       130   204    0        2      172      0      1.4      1   \n",
            "\n",
            "   ca  fixed  normal  reversible  \n",
            "0   0      1       0           0  \n",
            "1   3      0       1           0  \n",
            "2   2      0       0           1  \n",
            "3   0      0       1           0  \n",
            "4   0      0       1           0  \n",
            "0    0\n",
            "1    1\n",
            "2    0\n",
            "3    0\n",
            "4    0\n",
            "Name: target, dtype: int64\n"
          ]
        }
      ]
    },
    {
      "cell_type": "code",
      "source": [
        "from sklearn.model_selection import KFold\n",
        "from sklearn.neighbors import KNeighborsClassifier\n",
        "from sklearn.svm import SVC\n",
        "from sklearn.naive_bayes import GaussianNB\n",
        "from sklearn.model_selection import cross_val_score\n",
        "\n",
        "#definição do cross-validation\n",
        "numeroFolds = 5\n",
        "kf = KFold(n_splits=numeroFolds, shuffle=True)\n",
        "\n",
        "#definição dos classificadores\n",
        "knn = KNeighborsClassifier(n_neighbors=3)\n",
        "svm = SVC(kernel='linear')\n",
        "nb = GaussianNB()\n",
        "\n",
        "#classificação do conjunto IRIS\n",
        "scores = cross_val_score(knn, X, Y, cv=kf)\n",
        "print('Acurácia com K-NN: %0.4f +/- %0.4f' % (scores.mean(), scores.std()))\n",
        "scores = cross_val_score(svm, X, Y, cv=kf)\n",
        "print('Acurácia com SVM: %0.4f +/- %0.4f' % (scores.mean(), scores.std()))\n",
        "scores = cross_val_score(nb, X, Y, cv=kf)\n",
        "print('Acurácia com NB: %0.4f +/- %0.4f\\n' % (scores.mean(), scores.std()))"
      ],
      "metadata": {
        "colab": {
          "base_uri": "https://localhost:8080/"
        },
        "id": "67vNjb33KtcA",
        "outputId": "d714fd96-e4bf-4ddc-8582-524211b2c986"
      },
      "execution_count": 20,
      "outputs": [
        {
          "output_type": "stream",
          "name": "stdout",
          "text": [
            "Acurácia com K-NN: 0.6879 +/- 0.0561\n",
            "Acurácia com SVM: 0.8407 +/- 0.0215\n",
            "Acurácia com NB: 0.8437 +/- 0.0504\n",
            "\n"
          ]
        }
      ]
    }
  ]
}