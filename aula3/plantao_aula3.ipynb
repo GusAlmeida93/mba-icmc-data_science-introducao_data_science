{
  "nbformat": 4,
  "nbformat_minor": 0,
  "metadata": {
    "colab": {
      "name": "Tutoria3_fernando.ipynb",
      "provenance": []
    },
    "kernelspec": {
      "name": "python3",
      "display_name": "Python 3"
    },
    "language_info": {
      "name": "python"
    }
  },
  "cells": [
    {
      "cell_type": "markdown",
      "source": [
        "# **Normalização e Padronização de Dados:**\n",
        "\n",
        "Vamos considerar o cenário de comparar cidades no Brasil (dados fictícios):\n",
        "- temperatura: -5°C até 43°C\n",
        "- umidade: 15% até 80%\n",
        "\n",
        "Poderíamos ter algo assim:\n",
        "\n",
        "Cidade | Temperatura | Umidade\n",
        ":---|:---|:---\n",
        "São Paulo | 21 | 70\n",
        "São José do Rio Preto | 34 | 40\n",
        "Santos | 30 | 80\n",
        "\n",
        "As variáveis temperatura e umidade possuem intervalos diferentes:\n",
        "- Temperatura: 21 a 34\n",
        "- Umidade: 40 a 80\n",
        "\n",
        "<font color='red'> **Será que elas possuem a mesma magnitude?** </font>\n",
        "\n",
        "**Variáveis de maior magnitude tendem a dominar as de menor magnitude estatisticamente.** Assim, a variável umidade irá prevalecer sobre a temperatura durante o aprendizado em modelos preditivos."
      ],
      "metadata": {
        "id": "TYIQEayRcSt1"
      }
    },
    {
      "cell_type": "code",
      "execution_count": 1,
      "metadata": {
        "colab": {
          "base_uri": "https://localhost:8080/"
        },
        "id": "01ua2cP8cQDC",
        "outputId": "095552f9-d8df-4fa6-bfa8-9aaaf59ad190"
      },
      "outputs": [
        {
          "output_type": "stream",
          "name": "stdout",
          "text": [
            "Mínimo para o atributo 0: 4.3; Máximo para o atributo 0: 7.9\n",
            "Mínimo para o atributo 1: 2.0; Máximo para o atributo 1: 4.4\n",
            "Mínimo para o atributo 2: 1.0; Máximo para o atributo 2: 6.9\n",
            "Mínimo para o atributo 3: 0.1; Máximo para o atributo 3: 2.5\n",
            "\n",
            "Variação para o atributo 0: 3.6000000000000005\n",
            "Variação para o atributo 1: 2.4000000000000004\n",
            "Variação para o atributo 2: 5.9\n",
            "Variação para o atributo 3: 2.4\n"
          ]
        }
      ],
      "source": [
        "import pandas as pd\n",
        "from sklearn.datasets import load_iris\n",
        "\n",
        "iris = load_iris()\n",
        "X = pd.DataFrame(iris.data)\n",
        "\n",
        "print(\"Mínimo para o atributo 0: \" + str(X[0].min()) + \"; Máximo para o atributo 0: \" + str(X[0].max()))\n",
        "print(\"Mínimo para o atributo 1: \" + str(X[1].min()) + \"; Máximo para o atributo 1: \" + str(X[1].max()))\n",
        "print(\"Mínimo para o atributo 2: \" + str(X[2].min()) + \"; Máximo para o atributo 2: \" + str(X[2].max()))\n",
        "print(\"Mínimo para o atributo 3: \" + str(X[3].min()) + \"; Máximo para o atributo 3: \" + str(X[3].max()))\n",
        "\n",
        "print(\"\\nVariação para o atributo 0:\", X[0].max()-X[0].min())\n",
        "print(\"Variação para o atributo 1:\", X[1].max()-X[1].min())\n",
        "print(\"Variação para o atributo 2:\", X[2].max()-X[2].min())\n",
        "print(\"Variação para o atributo 3:\", X[3].max()-X[3].min())"
      ]
    },
    {
      "cell_type": "markdown",
      "source": [
        "**Normalização Min-Max.** Normaliza o atributo para estar compreendido no intervalo $[a,b]$:\n",
        "\n",
        "$$x' = a+\\frac{[x-\\min(x)](b-a)}{\\max(x)-\\min(x)}$$\n",
        "\n",
        "Assumindo o intervalo $[0,1]$:\n",
        " \n",
        "$$x' = \\frac{x-\\min(x)}{\\max(x)-\\min(x)}$$\n",
        "\n",
        "**Normalização pela Média.** Normaliza o atributo centralizando-o em relação à média, em que $\\bar{x}$ é a média entre todos os valores de $x$:\n",
        "\n",
        "$$x' = \\frac{x-\\bar{x}}{\\max(x)-\\min(x)}$$\n",
        "\n",
        "**Padronização Z-Score.** Normaliza o atributo centralizando-o em relação à média ($\\bar{x}$), em que o desvio padrão ($\\sigma$) é unitário:\n",
        "\n",
        "$$x' = \\frac{x-\\bar{x}}{\\sigma},$$"
      ],
      "metadata": {
        "id": "6k5cw4MEcZ5a"
      }
    },
    {
      "cell_type": "code",
      "source": [
        "print(\"Valores originais para o atributo 0:\")\n",
        "media = X[0].mean()\n",
        "desvio = X[0].std()\n",
        "print(\"Mínimo: \" + str(X[0].min()) + \"; Máximo: \" + str(X[0].max()))\n",
        "print(\"Variação:\", X[0].max()-X[0].min())\n",
        "print(\"Média:\", media)\n",
        "print(\"Desvio Padrão:\", desvio)\n",
        "\n",
        "print(\"\\nNormalização Min-Max [0,1]\")\n",
        "X0 = (X[0] - X[0].min()) / (X[0].max()-X[0].min())\n",
        "print(\"Mínimo: \" + str(X0.min()) + \"; Máximo: \" + str(X0.max()))\n",
        "print(\"Variação:\", X0.max()-X0.min())\n",
        "print(\"Média:\", X0.mean())\n",
        "print(\"Desvio padrão:\", X0.std())\n",
        "\n",
        "print(\"\\nNormalização pela Média [-1,1]\")\n",
        "X0 = (X[0] - media) / (X[0].max()-X[0].min())\n",
        "print(\"Mínimo: \" + str(X0.min()) + \"; Máximo: \" + str(X0.max()))\n",
        "print(\"Variação:\", X0.max()-X0.min())\n",
        "print(\"Média:\", X0.mean())\n",
        "print(\"Desvio padrão:\", X0.std())\n",
        "\n",
        "print(\"\\nPadronização z-score\")\n",
        "X0 = (X[0] - media) / desvio\n",
        "print(\"Mínimo: \" + str(X0.min()) + \"; Máximo: \" + str(X0.max()))\n",
        "print(\"Variação:\", X0.max()-X0.min())\n",
        "print(\"Média:\", X0.mean())\n",
        "print(\"Desvio padrão:\", X0.std())"
      ],
      "metadata": {
        "colab": {
          "base_uri": "https://localhost:8080/"
        },
        "id": "u_P85HWBcdt1",
        "outputId": "de157150-5a13-44c3-a05a-013d2c686e7c"
      },
      "execution_count": 2,
      "outputs": [
        {
          "output_type": "stream",
          "name": "stdout",
          "text": [
            "Valores originais para o atributo 0:\n",
            "Mínimo: 4.3; Máximo: 7.9\n",
            "Variação: 3.6000000000000005\n",
            "Média: 5.843333333333335\n",
            "Desvio Padrão: 0.8280661279778629\n",
            "\n",
            "Normalização Min-Max [0,1]\n",
            "Mínimo: 0.0; Máximo: 1.0\n",
            "Variação: 1.0\n",
            "Média: 0.4287037037037038\n",
            "Desvio padrão: 0.23001836888273963\n",
            "\n",
            "Normalização pela Média [-1,1]\n",
            "Mínimo: -0.42870370370370403; Máximo: 0.571296296296296\n",
            "Variação: 1.0\n",
            "Média: -2.820891668401752e-16\n",
            "Desvio padrão: 0.23001836888273963\n",
            "\n",
            "Padronização z-score\n",
            "Mínimo: -1.863780296269519; Máximo: 2.4836985805578653\n",
            "Variação: 4.347478876827385\n",
            "Média: -1.457167719820518e-15\n",
            "Desvio padrão: 1.0000000000000004\n"
          ]
        }
      ]
    },
    {
      "cell_type": "markdown",
      "source": [
        "**Observações:**\n",
        "- Quando o desvio padrão do atributo é pequeno, uma boa estratégia é fazer a normalização dos dados.\n",
        "- A padronização z-score garante média igual a 0 e desvio padrão igual a 1, posicionando a variável na Distribuição Normal.\n",
        "- Deve-se aplicar o mesmo processo em todos os atributos para que fiquem na mesma magnitude.\n",
        "- Um problema recorrente em normalização é a perda de significado para interpretação da variável. Por exemplo, altura e peso negativos após a normalização parecem incorretos, mas a nova projeção é justificada para ser utilizada em modelos preditivos."
      ],
      "metadata": {
        "id": "aDq8K2d0chh1"
      }
    },
    {
      "cell_type": "markdown",
      "source": [
        "# **Codificação de Dados:**\n",
        "\n",
        "Variáveis categóricas não são diretamente aplicadas em modelos estatísticos e computacionais. Assim, discretizá-las é um meio de aplicar estes dados nos modelos."
      ],
      "metadata": {
        "id": "ztXdQHgacwDX"
      }
    },
    {
      "cell_type": "code",
      "source": [
        "import matplotlib.pyplot as plt\n",
        "\n",
        "# vamos estudar o Cleveland Clinic Foundation for Heart Disease dataset\n",
        "data = pd.read_csv(\"http://storage.googleapis.com/download.tensorflow.org/data/heart.csv\")\n",
        "\n",
        "print(\"Visão geral dos dados:\")\n",
        "print(data.head())\n",
        "\n",
        "print(\"\\nValores categóricos contidos no atributo thal:\")\n",
        "print(data['thal'].unique())\n",
        "\n",
        "print(\"\\nVisualização dos valores no atributo thal:\")\n",
        "data['thal'].hist()\n",
        "plt.show()"
      ],
      "metadata": {
        "colab": {
          "base_uri": "https://localhost:8080/",
          "height": 508
        },
        "id": "3DE8oBdWc0jU",
        "outputId": "d3a690c0-ae19-4918-9bf7-e17f2c9d216f"
      },
      "execution_count": 4,
      "outputs": [
        {
          "output_type": "stream",
          "name": "stdout",
          "text": [
            "Visão geral dos dados:\n",
            "   age  sex  cp  trestbps  chol  ...  oldpeak  slope  ca        thal  target\n",
            "0   63    1   1       145   233  ...      2.3      3   0       fixed       0\n",
            "1   67    1   4       160   286  ...      1.5      2   3      normal       1\n",
            "2   67    1   4       120   229  ...      2.6      2   2  reversible       0\n",
            "3   37    1   3       130   250  ...      3.5      3   0      normal       0\n",
            "4   41    0   2       130   204  ...      1.4      1   0      normal       0\n",
            "\n",
            "[5 rows x 14 columns]\n",
            "\n",
            "Valores categóricos contidos no atributo thal:\n",
            "['fixed' 'normal' 'reversible' '1' '2']\n",
            "\n",
            "Visualização dos valores no atributo thal:\n"
          ]
        },
        {
          "output_type": "display_data",
          "data": {
            "image/png": "[encoded data removed]",
            "text/plain": [
              "<Figure size 432x288 with 1 Axes>"
            ]
          },
          "metadata": {
            "needs_background": "light"
          }
        }
      ]
    },
    {
      "cell_type": "code",
      "source": [
        "# aparentemente instâncias com valores '1' e '2' são discrepantes\n",
        "data = data[(data['thal']!='1')&(data['thal']!='2')]\n",
        "\n",
        "print(\"\\nValores categóricos contidos no atributo thal:\")\n",
        "print(data['thal'].unique())\n",
        "\n",
        "print(\"\\nVisualização dos valores no atributo thal:\")\n",
        "data['thal'].hist()\n",
        "plt.show()"
      ],
      "metadata": {
        "colab": {
          "base_uri": "https://localhost:8080/",
          "height": 352
        },
        "id": "dr5FqQKjc21x",
        "outputId": "ebbfc070-d78f-49f4-de04-e7c5f93c2cf8"
      },
      "execution_count": 5,
      "outputs": [
        {
          "output_type": "stream",
          "name": "stdout",
          "text": [
            "\n",
            "Valores categóricos contidos no atributo thal:\n",
            "['fixed' 'normal' 'reversible']\n",
            "\n",
            "Visualização dos valores no atributo thal:\n"
          ]
        },
        {
          "output_type": "display_data",
          "data": {
            "image/png": "[encoded data removed]",
            "text/plain": [
              "<Figure size 432x288 with 1 Axes>"
            ]
          },
          "metadata": {
            "needs_background": "light"
          }
        }
      ]
    },
    {
      "cell_type": "markdown",
      "source": [
        "Uma forma de discretizar variáveis categórias é por meio de uma escala direta de valores. Por exemplo:\n",
        "- fixed = 1\n",
        "- normal = 2\n",
        "- reversible = 3\n",
        "\n",
        "<font color='red'> **Qual o problema de utilizarmos esta abordagem?** </font>\n",
        "\n",
        "A solução mais viável é transformar cada valor existente em uma variável binária, indicando ou não a presença deste valor:"
      ],
      "metadata": {
        "id": "sdc9hoSQc42e"
      }
    },
    {
      "cell_type": "code",
      "source": [
        "# o método get_dummies faz esta configuração para nós:\n",
        "dummy_vars = pd.get_dummies(data['thal'])\n",
        "newData = pd.concat([data['thal'], dummy_vars], axis=1, sort=False)\n",
        "print(newData)"
      ],
      "metadata": {
        "colab": {
          "base_uri": "https://localhost:8080/"
        },
        "id": "WvIzNvohc6zt",
        "outputId": "88da0a58-b3ac-4ba4-8095-ff4aa554ead6"
      },
      "execution_count": 6,
      "outputs": [
        {
          "output_type": "stream",
          "name": "stdout",
          "text": [
            "           thal  fixed  normal  reversible\n",
            "0         fixed      1       0           0\n",
            "1        normal      0       1           0\n",
            "2    reversible      0       0           1\n",
            "3        normal      0       1           0\n",
            "4        normal      0       1           0\n",
            "..          ...    ...     ...         ...\n",
            "298       fixed      1       0           0\n",
            "299  reversible      0       0           1\n",
            "300  reversible      0       0           1\n",
            "301  reversible      0       0           1\n",
            "302  reversible      0       0           1\n",
            "\n",
            "[301 rows x 4 columns]\n"
          ]
        }
      ]
    },
    {
      "cell_type": "markdown",
      "source": [
        "Assim, ao invés de considerarmos o atributo \"thal\", consideramos somente suas respectivas codificações.\n",
        "\n",
        "Este método também chamado de **one-hot encoding**!"
      ],
      "metadata": {
        "id": "rz6RKEHUc8bK"
      }
    },
    {
      "cell_type": "markdown",
      "source": [
        "# **Outliers:**\n",
        "\n",
        "**Outliers, pontos \"fora-da-curva\" ou pontos aberrantes** são exemplos ou instâncias que:\n",
        "- dentre do espaço de possíveis valores, recaem num intervalo *fora* daquele relativo a maior parte dos exemplos de uma base de dados.\n",
        "- desvia tanto das outras observações que levanta suspeita de que foi gerada por um mecanismo diferenciado;\n",
        "- são meramente uma manifestação extrema da variedade aleatória inerente aos dados;\n",
        "- são resultados de um desvio grosseiro do procedimento experimental."
      ],
      "metadata": {
        "id": "deOB6QXBdruY"
      }
    },
    {
      "cell_type": "markdown",
      "source": [
        "# **Dados desbalanceados:**\n",
        "\n",
        "Alguns modelos de aprendizado tendem a ponderar para categorias que possuem mais exemplos, ou seja, para a classe majoritária. Assim, o desbalanceamento pode prejudicar severamente o aprendizado dos modelos preditivos.\n",
        "\n",
        "**Como tratar o desbalanceamento?**\n",
        "- subamostragem, removendo exemplos da classe majoritária;\n",
        "- aumentação ou sobreamostragem, criando novos exemplos da classe minoritária;\n",
        "- fazendo combinações de ambas as abordagens."
      ],
      "metadata": {
        "id": "4RWBKJwbd5cC"
      }
    },
    {
      "cell_type": "markdown",
      "source": [
        "# **Leituras complementares:**\n",
        "* Documentação sklearn para tratamento de dados (https://scikit-learn.org/stable/data_transforms.html)"
      ],
      "metadata": {
        "id": "f93RSo6udfMu"
      }
    }
  ]
}